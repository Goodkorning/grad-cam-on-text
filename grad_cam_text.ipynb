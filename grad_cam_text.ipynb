{
 "cells": [
  {
   "cell_type": "code",
   "execution_count": 3,
   "metadata": {},
   "outputs": [],
   "source": [
    "mypath = './data'"
   ]
  },
  {
   "cell_type": "code",
   "execution_count": 4,
   "metadata": {},
   "outputs": [],
   "source": [
    "import os\n",
    "os.environ['CUDA_VISIBLE_DEVICES'] = '1'\n",
    "import pandas as pd\n",
    "import numpy as np\n",
    "import tensorflow as tf\n",
    "from tensorflow import keras\n",
    "import datetime\n",
    "\n",
    "from tensorflow.keras.models import Sequential\n",
    "from tensorflow.keras.layers import Dense, Embedding, Flatten\n",
    "from tensorflow.keras.layers import Conv1D, GlobalAveragePooling1D\n",
    "from tensorflow.keras import models, layers\n",
    "\n",
    "from tqdm import tqdm\n",
    "import seaborn as sns\n",
    "import pickle\n",
    "from os import path\n",
    "import matplotlib.pyplot as plt"
   ]
  },
  {
   "cell_type": "code",
   "execution_count": 5,
   "metadata": {},
   "outputs": [],
   "source": [
    "data = pd.read_csv('winemag-data-130k-v2.csv')\n",
    "data = data.drop(data.columns[0], axis= 1)\n",
    "data = data.drop(['designation', 'points','region_1', 'region_2',\n",
    "       'region_1', 'region_2', 'taster_name', 'taster_twitter_handle','winery'],axis=1)\n",
    "data = data[['country', 'description', 'price', 'province', 'title', 'variety']].dropna()\n",
    "## 총 500개가 안되는 나라 삭제\n",
    "threshold = 500 \n",
    "value_counts = data['country'].value_counts()\n",
    "to_remove = value_counts[value_counts <= threshold].index\n",
    "data.replace(to_remove, np.nan, inplace= True)\n",
    "data = data[pd.notnull(data['country'])]"
   ]
  },
  {
   "cell_type": "code",
   "execution_count": 6,
   "metadata": {},
   "outputs": [],
   "source": [
    "from sklearn import preprocessing\n",
    "from sklearn.model_selection import train_test_split"
   ]
  },
  {
   "cell_type": "code",
   "execution_count": 7,
   "metadata": {},
   "outputs": [],
   "source": [
    "#country labeling\n",
    "encoder = preprocessing.LabelEncoder()\n",
    "encoder.fit(data.country)\n",
    "encoder.classes_\n",
    "encoded_country = encoder.transform(data.country)"
   ]
  },
  {
   "cell_type": "code",
   "execution_count": 8,
   "metadata": {},
   "outputs": [],
   "source": [
    "#variety labling _never used\n",
    "encoder2 = preprocessing.LabelEncoder()\n",
    "encoder2.fit(data.variety)\n",
    "encoder2.classes_\n",
    "encoded_variety = encoder2.transform(data.variety)"
   ]
  },
  {
   "cell_type": "code",
   "execution_count": 9,
   "metadata": {},
   "outputs": [
    {
     "data": {
      "text/plain": [
       "1         This is ripe and fruity, a wine that is smooth...\n",
       "2         Tart and snappy, the flavors of lime flesh and...\n",
       "3         Pineapple rind, lemon pith and orange blossom ...\n",
       "4         Much like the regular bottling from 2012, this...\n",
       "5         Blackberry and raspberry aromas show a typical...\n",
       "                                ...                        \n",
       "129966    Notes of honeysuckle and cantaloupe sweeten th...\n",
       "129967    Citation is given as much as a decade of bottl...\n",
       "129968    Well-drained gravel soil gives this wine its c...\n",
       "129969    A dry style of Pinot Gris, this is crisp with ...\n",
       "129970    Big, rich and off-dry, this is powered by inte...\n",
       "Name: description, Length: 118458, dtype: object"
      ]
     },
     "execution_count": 9,
     "metadata": {},
     "output_type": "execute_result"
    }
   ],
   "source": [
    "description = data['description']\n",
    "description"
   ]
  },
  {
   "cell_type": "code",
   "execution_count": 10,
   "metadata": {},
   "outputs": [],
   "source": [
    "#one-hot encode the description\n",
    "from tensorflow.keras.preprocessing.text import Tokenizer\n",
    "from tensorflow.keras.preprocessing.sequence import pad_sequences\n",
    "t = Tokenizer()\n",
    "t.fit_on_texts(description)\n",
    "vocab_size = len(t.word_index)+1\n",
    "description_encoded = t.texts_to_sequences(description)\n",
    "max_len=max(len(l) for l in description_encoded)\n",
    "description = pad_sequences(description_encoded, maxlen=max_len, padding='post')"
   ]
  },
  {
   "cell_type": "code",
   "execution_count": 11,
   "metadata": {},
   "outputs": [
    {
     "data": {
      "text/plain": [
       "array([[    6,     7,    27, ...,     0,     0,     0],\n",
       "       [  109,     1,   891, ...,     0,     0,     0],\n",
       "       [  203,   622,    76, ...,     0,     0,     0],\n",
       "       ...,\n",
       "       [   51, 16200,  1538, ...,     0,     0,     0],\n",
       "       [    3,    39,   106, ...,     0,     0,     0],\n",
       "       [  184,    41,     1, ...,     0,     0,     0]], dtype=int32)"
      ]
     },
     "execution_count": 11,
     "metadata": {},
     "output_type": "execute_result"
    }
   ],
   "source": [
    "description"
   ]
  },
  {
   "cell_type": "code",
   "execution_count": 12,
   "metadata": {},
   "outputs": [],
   "source": [
    " #making embedding layer\n",
    " import gensim\n",
    " word2vec = gensim.models.KeyedVectors.load_word2vec_format('./GoogleNews-vectors-negative300.bin', binary = True)\n",
    " print(word2vec.vectors.shape)\n",
    " embedding_matrix = np.zeros((vocab_size,300))\n",
    " def get_vector(word) :\n",
    "     if word in word2vec :\n",
    "         return word2vec[word]\n",
    "     else:\n",
    "         return None\n",
    " for word, i in t.word_index.items():\n",
    "     temp = get_vector(word)\n",
    "     if temp is not None :b\n",
    "         embedding_matrix[i] = temp"
   ]
  },
  {
   "cell_type": "code",
   "execution_count": 14,
   "metadata": {},
   "outputs": [],
   "source": [
    "with open(path.join(mypath,'embedding_matrix'),'rb') as f:\n",
    "    embedding_matrix = pickle.load(f)"
   ]
  },
  {
   "cell_type": "code",
   "execution_count": 15,
   "metadata": {},
   "outputs": [],
   "source": [
    "#test train split\n",
    "X_train, X_test, y_train, y_test = train_test_split(description, encoded_country, test_size=0.2, stratify=encoded_country) "
   ]
  },
  {
   "cell_type": "code",
   "execution_count": 16,
   "metadata": {},
   "outputs": [],
   "source": [
    "'''\n",
    "with open(path.join(mypath,'X_train'),'wb') as f:\n",
    "     pickle.dump(X_train, f)\n",
    "with open(path.join(mypath,'X_test'),'wb') as f:\n",
    "     pickle.dump(X_test, f)\n",
    "with open(path.join(mypath,'y_train'),'wb') as f:\n",
    "     pickle.dump(y_train, f)\n",
    "with open(path.join(mypath,'y_test'),'wb') as f:\n",
    "     pickle.dump(y_test, f)\n",
    "    \n",
    "\n",
    "with open(path.join(mypath,'X_train'),'rb') as f:\n",
    "    X_train = pickle.load(f)\n",
    "with open(path.join(mypath,'X_test'),'rb') as f:\n",
    "    X_test = pickle.load(f)\n",
    "with open(path.join(mypath,'y_train'),'rb') as f:\n",
    "    y_train = pickle.load(f)\n",
    "with open(path.join(mypath,'y_test'),'rb') as f:\n",
    "    y_test = pickle.load(f)\n",
    "'''   "
   ]
  },
  {
   "cell_type": "code",
   "execution_count": 16,
   "metadata": {},
   "outputs": [],
   "source": [
    "print(X_train.shape, y_train.shape)\n",
    "print(X_test.shape, y_test.shape)"
   ]
  },
  {
   "cell_type": "code",
   "execution_count": 18,
   "metadata": {},
   "outputs": [],
   "source": [
    "#test validation split\n",
    "X_train, X_val, y_train, y_val =  train_test_split(X_train, y_train, test_size=0.2, stratify=y_train)"
   ]
  },
  {
   "cell_type": "code",
   "execution_count": 19,
   "metadata": {},
   "outputs": [
    {
     "name": "stdout",
     "output_type": "stream",
     "text": [
      "(75812, 136)\n",
      "(18954, 136)\n"
     ]
    }
   ],
   "source": [
    "print(X_train.shape)\n",
    "print(X_val.shape)"
   ]
  },
  {
   "cell_type": "code",
   "execution_count": 20,
   "metadata": {},
   "outputs": [],
   "source": [
    "tensor = X_test[:1]"
   ]
  },
  {
   "cell_type": "code",
   "execution_count": 21,
   "metadata": {},
   "outputs": [
    {
     "name": "stdout",
     "output_type": "stream",
     "text": [
      "Model: \"my_model\"\n",
      "_________________________________________________________________\n",
      "Layer (type)                 Output Shape              Param #   \n",
      "=================================================================\n",
      "embedding (Embedding)        multiple                  10722300  \n",
      "_________________________________________________________________\n",
      "conv1d (Conv1D)              multiple                  75250     \n",
      "_________________________________________________________________\n",
      "global_average_pooling1d (Gl multiple                  0         \n",
      "_________________________________________________________________\n",
      "dense (Dense)                multiple                  3012      \n",
      "_________________________________________________________________\n",
      "activation (Activation)      multiple                  0         \n",
      "=================================================================\n",
      "Total params: 10,800,562\n",
      "Trainable params: 78,262\n",
      "Non-trainable params: 10,722,300\n",
      "_________________________________________________________________\n",
      "None\n"
     ]
    }
   ],
   "source": [
    "class MyModel(models.Model):\n",
    "    def __init__(self):\n",
    "        super(MyModel, self).__init__()\n",
    "        self.e = Embedding(vocab_size, 300, weights=[embedding_matrix], input_length=max_len, trainable=False)\n",
    "        self.conv = layers.Conv1D(filters=250,kernel_size=1,strides=1,padding='valid',activation='relu')\n",
    "        self.gap = layers.GlobalAveragePooling1D()\n",
    "        self.dense = layers.Dense(12)\n",
    "        self.softmax = layers.Activation('softmax')\n",
    "        \n",
    "    def call(self, inputs):\n",
    "        e = self.e(inputs)\n",
    "        conv = self.conv(e)\n",
    "        gap = self.gap(conv)\n",
    "        dense = self.dense(gap)\n",
    "        outputs = self.softmax(dense)\n",
    "        return outputs, dense, conv\n",
    "\n",
    "clf = MyModel()\n",
    "clf.build(input_shape=(None, max_len))\n",
    "print(clf.summary())"
   ]
  },
  {
   "cell_type": "code",
   "execution_count": 22,
   "metadata": {},
   "outputs": [
    {
     "name": "stderr",
     "output_type": "stream",
     "text": [
      "100%|██████████| 75/75 [00:16<00:00,  4.68it/s]\n",
      "  0%|          | 0/75 [00:00<?, ?it/s]"
     ]
    },
    {
     "name": "stdout",
     "output_type": "stream",
     "text": [
      "1/100, loss = 144.8715\n"
     ]
    },
    {
     "name": "stderr",
     "output_type": "stream",
     "text": [
      "100%|██████████| 75/75 [00:15<00:00,  4.69it/s]\n",
      "  0%|          | 0/75 [00:00<?, ?it/s]"
     ]
    },
    {
     "name": "stdout",
     "output_type": "stream",
     "text": [
      "2/100, loss = 126.5621\n"
     ]
    },
    {
     "name": "stderr",
     "output_type": "stream",
     "text": [
      "100%|██████████| 75/75 [00:15<00:00,  4.71it/s]\n",
      "  0%|          | 0/75 [00:00<?, ?it/s]"
     ]
    },
    {
     "name": "stdout",
     "output_type": "stream",
     "text": [
      "3/100, loss = 113.9960\n"
     ]
    },
    {
     "name": "stderr",
     "output_type": "stream",
     "text": [
      "100%|██████████| 75/75 [00:15<00:00,  4.71it/s]\n",
      "  0%|          | 0/75 [00:00<?, ?it/s]"
     ]
    },
    {
     "name": "stdout",
     "output_type": "stream",
     "text": [
      "4/100, loss = 102.1394\n"
     ]
    },
    {
     "name": "stderr",
     "output_type": "stream",
     "text": [
      "100%|██████████| 75/75 [00:15<00:00,  4.70it/s]\n",
      "  0%|          | 0/75 [00:00<?, ?it/s]"
     ]
    },
    {
     "name": "stdout",
     "output_type": "stream",
     "text": [
      "5/100, loss = 92.2304\n"
     ]
    },
    {
     "name": "stderr",
     "output_type": "stream",
     "text": [
      "100%|██████████| 75/75 [00:15<00:00,  4.69it/s]\n",
      "  0%|          | 0/75 [00:00<?, ?it/s]"
     ]
    },
    {
     "name": "stdout",
     "output_type": "stream",
     "text": [
      "6/100, loss = 84.5336\n"
     ]
    },
    {
     "name": "stderr",
     "output_type": "stream",
     "text": [
      "100%|██████████| 75/75 [00:15<00:00,  4.71it/s]\n",
      "  0%|          | 0/75 [00:00<?, ?it/s]"
     ]
    },
    {
     "name": "stdout",
     "output_type": "stream",
     "text": [
      "7/100, loss = 78.9026\n"
     ]
    },
    {
     "name": "stderr",
     "output_type": "stream",
     "text": [
      "100%|██████████| 75/75 [00:15<00:00,  4.70it/s]\n",
      "  0%|          | 0/75 [00:00<?, ?it/s]"
     ]
    },
    {
     "name": "stdout",
     "output_type": "stream",
     "text": [
      "8/100, loss = 74.6960\n"
     ]
    },
    {
     "name": "stderr",
     "output_type": "stream",
     "text": [
      "100%|██████████| 75/75 [00:15<00:00,  4.69it/s]\n",
      "  0%|          | 0/75 [00:00<?, ?it/s]"
     ]
    },
    {
     "name": "stdout",
     "output_type": "stream",
     "text": [
      "9/100, loss = 71.3904\n"
     ]
    },
    {
     "name": "stderr",
     "output_type": "stream",
     "text": [
      "100%|██████████| 75/75 [00:15<00:00,  4.72it/s]\n",
      "  0%|          | 0/75 [00:00<?, ?it/s]"
     ]
    },
    {
     "name": "stdout",
     "output_type": "stream",
     "text": [
      "10/100, loss = 68.7005\n"
     ]
    },
    {
     "name": "stderr",
     "output_type": "stream",
     "text": [
      "100%|██████████| 75/75 [00:15<00:00,  4.70it/s]\n",
      "  0%|          | 0/75 [00:00<?, ?it/s]"
     ]
    },
    {
     "name": "stdout",
     "output_type": "stream",
     "text": [
      "11/100, loss = 66.4615\n"
     ]
    },
    {
     "name": "stderr",
     "output_type": "stream",
     "text": [
      "100%|██████████| 75/75 [00:15<00:00,  4.70it/s]\n",
      "  0%|          | 0/75 [00:00<?, ?it/s]"
     ]
    },
    {
     "name": "stdout",
     "output_type": "stream",
     "text": [
      "12/100, loss = 64.5639\n"
     ]
    },
    {
     "name": "stderr",
     "output_type": "stream",
     "text": [
      "100%|██████████| 75/75 [00:15<00:00,  4.69it/s]\n",
      "  0%|          | 0/75 [00:00<?, ?it/s]"
     ]
    },
    {
     "name": "stdout",
     "output_type": "stream",
     "text": [
      "13/100, loss = 62.9281\n"
     ]
    },
    {
     "name": "stderr",
     "output_type": "stream",
     "text": [
      "100%|██████████| 75/75 [00:15<00:00,  4.71it/s]\n",
      "  0%|          | 0/75 [00:00<?, ?it/s]"
     ]
    },
    {
     "name": "stdout",
     "output_type": "stream",
     "text": [
      "14/100, loss = 61.4970\n"
     ]
    },
    {
     "name": "stderr",
     "output_type": "stream",
     "text": [
      "100%|██████████| 75/75 [00:15<00:00,  4.71it/s]\n",
      "  0%|          | 0/75 [00:00<?, ?it/s]"
     ]
    },
    {
     "name": "stdout",
     "output_type": "stream",
     "text": [
      "15/100, loss = 60.2278\n"
     ]
    },
    {
     "name": "stderr",
     "output_type": "stream",
     "text": [
      "100%|██████████| 75/75 [00:15<00:00,  4.69it/s]\n",
      "  0%|          | 0/75 [00:00<?, ?it/s]"
     ]
    },
    {
     "name": "stdout",
     "output_type": "stream",
     "text": [
      "16/100, loss = 59.0907\n"
     ]
    },
    {
     "name": "stderr",
     "output_type": "stream",
     "text": [
      "100%|██████████| 75/75 [00:15<00:00,  4.69it/s]\n",
      "  0%|          | 0/75 [00:00<?, ?it/s]"
     ]
    },
    {
     "name": "stdout",
     "output_type": "stream",
     "text": [
      "17/100, loss = 58.0601\n"
     ]
    },
    {
     "name": "stderr",
     "output_type": "stream",
     "text": [
      "100%|██████████| 75/75 [00:15<00:00,  4.70it/s]\n",
      "  0%|          | 0/75 [00:00<?, ?it/s]"
     ]
    },
    {
     "name": "stdout",
     "output_type": "stream",
     "text": [
      "18/100, loss = 57.1190\n"
     ]
    },
    {
     "name": "stderr",
     "output_type": "stream",
     "text": [
      "100%|██████████| 75/75 [00:15<00:00,  4.70it/s]\n",
      "  0%|          | 0/75 [00:00<?, ?it/s]"
     ]
    },
    {
     "name": "stdout",
     "output_type": "stream",
     "text": [
      "19/100, loss = 56.2534\n"
     ]
    },
    {
     "name": "stderr",
     "output_type": "stream",
     "text": [
      "100%|██████████| 75/75 [00:15<00:00,  4.71it/s]\n",
      "  0%|          | 0/75 [00:00<?, ?it/s]"
     ]
    },
    {
     "name": "stdout",
     "output_type": "stream",
     "text": [
      "20/100, loss = 55.4527\n"
     ]
    },
    {
     "name": "stderr",
     "output_type": "stream",
     "text": [
      "100%|██████████| 75/75 [00:15<00:00,  4.70it/s]\n",
      "  0%|          | 0/75 [00:00<?, ?it/s]"
     ]
    },
    {
     "name": "stdout",
     "output_type": "stream",
     "text": [
      "21/100, loss = 54.7084\n"
     ]
    },
    {
     "name": "stderr",
     "output_type": "stream",
     "text": [
      "100%|██████████| 75/75 [00:16<00:00,  4.68it/s]\n",
      "  0%|          | 0/75 [00:00<?, ?it/s]"
     ]
    },
    {
     "name": "stdout",
     "output_type": "stream",
     "text": [
      "22/100, loss = 54.0127\n"
     ]
    },
    {
     "name": "stderr",
     "output_type": "stream",
     "text": [
      "100%|██████████| 75/75 [00:16<00:00,  4.68it/s]\n",
      "  0%|          | 0/75 [00:00<?, ?it/s]"
     ]
    },
    {
     "name": "stdout",
     "output_type": "stream",
     "text": [
      "23/100, loss = 53.3595\n"
     ]
    },
    {
     "name": "stderr",
     "output_type": "stream",
     "text": [
      "100%|██████████| 75/75 [00:16<00:00,  4.68it/s]\n",
      "  0%|          | 0/75 [00:00<?, ?it/s]"
     ]
    },
    {
     "name": "stdout",
     "output_type": "stream",
     "text": [
      "24/100, loss = 52.7436\n"
     ]
    },
    {
     "name": "stderr",
     "output_type": "stream",
     "text": [
      "100%|██████████| 75/75 [00:15<00:00,  4.69it/s]\n",
      "  0%|          | 0/75 [00:00<?, ?it/s]"
     ]
    },
    {
     "name": "stdout",
     "output_type": "stream",
     "text": [
      "25/100, loss = 52.1611\n"
     ]
    },
    {
     "name": "stderr",
     "output_type": "stream",
     "text": [
      "100%|██████████| 75/75 [00:15<00:00,  4.70it/s]\n",
      "  0%|          | 0/75 [00:00<?, ?it/s]"
     ]
    },
    {
     "name": "stdout",
     "output_type": "stream",
     "text": [
      "26/100, loss = 51.6100\n"
     ]
    },
    {
     "name": "stderr",
     "output_type": "stream",
     "text": [
      "100%|██████████| 75/75 [00:15<00:00,  4.70it/s]\n",
      "  0%|          | 0/75 [00:00<?, ?it/s]"
     ]
    },
    {
     "name": "stdout",
     "output_type": "stream",
     "text": [
      "27/100, loss = 51.0859\n"
     ]
    },
    {
     "name": "stderr",
     "output_type": "stream",
     "text": [
      "100%|██████████| 75/75 [00:15<00:00,  4.70it/s]\n",
      "  0%|          | 0/75 [00:00<?, ?it/s]"
     ]
    },
    {
     "name": "stdout",
     "output_type": "stream",
     "text": [
      "28/100, loss = 50.5874\n"
     ]
    },
    {
     "name": "stderr",
     "output_type": "stream",
     "text": [
      "100%|██████████| 75/75 [00:15<00:00,  4.69it/s]\n",
      "  0%|          | 0/75 [00:00<?, ?it/s]"
     ]
    },
    {
     "name": "stdout",
     "output_type": "stream",
     "text": [
      "29/100, loss = 50.1121\n"
     ]
    },
    {
     "name": "stderr",
     "output_type": "stream",
     "text": [
      "100%|██████████| 75/75 [00:16<00:00,  4.68it/s]\n",
      "  0%|          | 0/75 [00:00<?, ?it/s]"
     ]
    },
    {
     "name": "stdout",
     "output_type": "stream",
     "text": [
      "30/100, loss = 49.6579\n"
     ]
    },
    {
     "name": "stderr",
     "output_type": "stream",
     "text": [
      "100%|██████████| 75/75 [00:15<00:00,  4.70it/s]\n",
      "  0%|          | 0/75 [00:00<?, ?it/s]"
     ]
    },
    {
     "name": "stdout",
     "output_type": "stream",
     "text": [
      "31/100, loss = 49.2235\n"
     ]
    },
    {
     "name": "stderr",
     "output_type": "stream",
     "text": [
      "100%|██████████| 75/75 [00:15<00:00,  4.69it/s]\n",
      "  0%|          | 0/75 [00:00<?, ?it/s]"
     ]
    },
    {
     "name": "stdout",
     "output_type": "stream",
     "text": [
      "32/100, loss = 48.8075\n"
     ]
    },
    {
     "name": "stderr",
     "output_type": "stream",
     "text": [
      "100%|██████████| 75/75 [00:15<00:00,  4.70it/s]\n",
      "  0%|          | 0/75 [00:00<?, ?it/s]"
     ]
    },
    {
     "name": "stdout",
     "output_type": "stream",
     "text": [
      "33/100, loss = 48.4088\n"
     ]
    },
    {
     "name": "stderr",
     "output_type": "stream",
     "text": [
      "100%|██████████| 75/75 [00:15<00:00,  4.70it/s]\n",
      "  0%|          | 0/75 [00:00<?, ?it/s]"
     ]
    },
    {
     "name": "stdout",
     "output_type": "stream",
     "text": [
      "34/100, loss = 48.0264\n"
     ]
    },
    {
     "name": "stderr",
     "output_type": "stream",
     "text": [
      "100%|██████████| 75/75 [00:15<00:00,  4.70it/s]\n",
      "  0%|          | 0/75 [00:00<?, ?it/s]"
     ]
    },
    {
     "name": "stdout",
     "output_type": "stream",
     "text": [
      "35/100, loss = 47.6588\n"
     ]
    },
    {
     "name": "stderr",
     "output_type": "stream",
     "text": [
      "100%|██████████| 75/75 [00:16<00:00,  4.68it/s]\n",
      "  0%|          | 0/75 [00:00<?, ?it/s]"
     ]
    },
    {
     "name": "stdout",
     "output_type": "stream",
     "text": [
      "36/100, loss = 47.3051\n"
     ]
    },
    {
     "name": "stderr",
     "output_type": "stream",
     "text": [
      "100%|██████████| 75/75 [00:15<00:00,  4.70it/s]\n",
      "  0%|          | 0/75 [00:00<?, ?it/s]"
     ]
    },
    {
     "name": "stdout",
     "output_type": "stream",
     "text": [
      "37/100, loss = 46.9642\n"
     ]
    },
    {
     "name": "stderr",
     "output_type": "stream",
     "text": [
      "100%|██████████| 75/75 [00:15<00:00,  4.71it/s]\n",
      "  0%|          | 0/75 [00:00<?, ?it/s]"
     ]
    },
    {
     "name": "stdout",
     "output_type": "stream",
     "text": [
      "38/100, loss = 46.6346\n"
     ]
    },
    {
     "name": "stderr",
     "output_type": "stream",
     "text": [
      "100%|██████████| 75/75 [00:15<00:00,  4.69it/s]\n",
      "  0%|          | 0/75 [00:00<?, ?it/s]"
     ]
    },
    {
     "name": "stdout",
     "output_type": "stream",
     "text": [
      "39/100, loss = 46.3169\n"
     ]
    },
    {
     "name": "stderr",
     "output_type": "stream",
     "text": [
      "100%|██████████| 75/75 [00:16<00:00,  4.67it/s]\n",
      "  0%|          | 0/75 [00:00<?, ?it/s]"
     ]
    },
    {
     "name": "stdout",
     "output_type": "stream",
     "text": [
      "40/100, loss = 46.0098\n"
     ]
    },
    {
     "name": "stderr",
     "output_type": "stream",
     "text": [
      "100%|██████████| 75/75 [00:15<00:00,  4.69it/s]\n",
      "  0%|          | 0/75 [00:00<?, ?it/s]"
     ]
    },
    {
     "name": "stdout",
     "output_type": "stream",
     "text": [
      "41/100, loss = 45.7121\n"
     ]
    },
    {
     "name": "stderr",
     "output_type": "stream",
     "text": [
      "100%|██████████| 75/75 [00:15<00:00,  4.70it/s]\n",
      "  0%|          | 0/75 [00:00<?, ?it/s]"
     ]
    },
    {
     "name": "stdout",
     "output_type": "stream",
     "text": [
      "42/100, loss = 45.4237\n"
     ]
    },
    {
     "name": "stderr",
     "output_type": "stream",
     "text": [
      "100%|██████████| 75/75 [00:15<00:00,  4.70it/s]\n",
      "  0%|          | 0/75 [00:00<?, ?it/s]"
     ]
    },
    {
     "name": "stdout",
     "output_type": "stream",
     "text": [
      "43/100, loss = 45.1443\n"
     ]
    },
    {
     "name": "stderr",
     "output_type": "stream",
     "text": [
      "100%|██████████| 75/75 [00:16<00:00,  4.68it/s]\n",
      "  0%|          | 0/75 [00:00<?, ?it/s]"
     ]
    },
    {
     "name": "stdout",
     "output_type": "stream",
     "text": [
      "44/100, loss = 44.8732\n"
     ]
    },
    {
     "name": "stderr",
     "output_type": "stream",
     "text": [
      "100%|██████████| 75/75 [00:15<00:00,  4.70it/s]\n",
      "  0%|          | 0/75 [00:00<?, ?it/s]"
     ]
    },
    {
     "name": "stdout",
     "output_type": "stream",
     "text": [
      "45/100, loss = 44.6102\n"
     ]
    },
    {
     "name": "stderr",
     "output_type": "stream",
     "text": [
      "100%|██████████| 75/75 [00:15<00:00,  4.69it/s]\n",
      "  0%|          | 0/75 [00:00<?, ?it/s]"
     ]
    },
    {
     "name": "stdout",
     "output_type": "stream",
     "text": [
      "46/100, loss = 44.3545\n"
     ]
    },
    {
     "name": "stderr",
     "output_type": "stream",
     "text": [
      "100%|██████████| 75/75 [00:15<00:00,  4.70it/s]\n",
      "  0%|          | 0/75 [00:00<?, ?it/s]"
     ]
    },
    {
     "name": "stdout",
     "output_type": "stream",
     "text": [
      "47/100, loss = 44.1060\n"
     ]
    },
    {
     "name": "stderr",
     "output_type": "stream",
     "text": [
      "100%|██████████| 75/75 [00:15<00:00,  4.69it/s]\n",
      "  0%|          | 0/75 [00:00<?, ?it/s]"
     ]
    },
    {
     "name": "stdout",
     "output_type": "stream",
     "text": [
      "48/100, loss = 43.8640\n"
     ]
    },
    {
     "name": "stderr",
     "output_type": "stream",
     "text": [
      "100%|██████████| 75/75 [00:16<00:00,  4.69it/s]\n",
      "  0%|          | 0/75 [00:00<?, ?it/s]"
     ]
    },
    {
     "name": "stdout",
     "output_type": "stream",
     "text": [
      "49/100, loss = 43.6292\n"
     ]
    },
    {
     "name": "stderr",
     "output_type": "stream",
     "text": [
      "100%|██████████| 75/75 [00:15<00:00,  4.72it/s]\n",
      "  0%|          | 0/75 [00:00<?, ?it/s]"
     ]
    },
    {
     "name": "stdout",
     "output_type": "stream",
     "text": [
      "50/100, loss = 43.4003\n"
     ]
    },
    {
     "name": "stderr",
     "output_type": "stream",
     "text": [
      "100%|██████████| 75/75 [00:15<00:00,  4.69it/s]\n",
      "  0%|          | 0/75 [00:00<?, ?it/s]"
     ]
    },
    {
     "name": "stdout",
     "output_type": "stream",
     "text": [
      "51/100, loss = 43.1772\n"
     ]
    },
    {
     "name": "stderr",
     "output_type": "stream",
     "text": [
      "100%|██████████| 75/75 [00:16<00:00,  4.68it/s]\n",
      "  0%|          | 0/75 [00:00<?, ?it/s]"
     ]
    },
    {
     "name": "stdout",
     "output_type": "stream",
     "text": [
      "52/100, loss = 42.9600\n"
     ]
    },
    {
     "name": "stderr",
     "output_type": "stream",
     "text": [
      "100%|██████████| 75/75 [00:15<00:00,  4.69it/s]\n",
      "  0%|          | 0/75 [00:00<?, ?it/s]"
     ]
    },
    {
     "name": "stdout",
     "output_type": "stream",
     "text": [
      "53/100, loss = 42.7480\n"
     ]
    },
    {
     "name": "stderr",
     "output_type": "stream",
     "text": [
      "100%|██████████| 75/75 [00:15<00:00,  4.69it/s]\n",
      "  0%|          | 0/75 [00:00<?, ?it/s]"
     ]
    },
    {
     "name": "stdout",
     "output_type": "stream",
     "text": [
      "54/100, loss = 42.5413\n"
     ]
    },
    {
     "name": "stderr",
     "output_type": "stream",
     "text": [
      "100%|██████████| 75/75 [00:16<00:00,  4.69it/s]\n",
      "  0%|          | 0/75 [00:00<?, ?it/s]"
     ]
    },
    {
     "name": "stdout",
     "output_type": "stream",
     "text": [
      "55/100, loss = 42.3404\n"
     ]
    },
    {
     "name": "stderr",
     "output_type": "stream",
     "text": [
      "100%|██████████| 75/75 [00:16<00:00,  4.68it/s]\n",
      "  0%|          | 0/75 [00:00<?, ?it/s]"
     ]
    },
    {
     "name": "stdout",
     "output_type": "stream",
     "text": [
      "56/100, loss = 42.1437\n"
     ]
    },
    {
     "name": "stderr",
     "output_type": "stream",
     "text": [
      "100%|██████████| 75/75 [00:16<00:00,  4.68it/s]\n",
      "  0%|          | 0/75 [00:00<?, ?it/s]"
     ]
    },
    {
     "name": "stdout",
     "output_type": "stream",
     "text": [
      "57/100, loss = 41.9516\n"
     ]
    },
    {
     "name": "stderr",
     "output_type": "stream",
     "text": [
      "100%|██████████| 75/75 [00:15<00:00,  4.69it/s]\n",
      "  0%|          | 0/75 [00:00<?, ?it/s]"
     ]
    },
    {
     "name": "stdout",
     "output_type": "stream",
     "text": [
      "58/100, loss = 41.7641\n"
     ]
    },
    {
     "name": "stderr",
     "output_type": "stream",
     "text": [
      "100%|██████████| 75/75 [00:15<00:00,  4.69it/s]\n",
      "  0%|          | 0/75 [00:00<?, ?it/s]"
     ]
    },
    {
     "name": "stdout",
     "output_type": "stream",
     "text": [
      "59/100, loss = 41.5807\n"
     ]
    },
    {
     "name": "stderr",
     "output_type": "stream",
     "text": [
      "100%|██████████| 75/75 [00:15<00:00,  4.69it/s]\n",
      "  0%|          | 0/75 [00:00<?, ?it/s]"
     ]
    },
    {
     "name": "stdout",
     "output_type": "stream",
     "text": [
      "60/100, loss = 41.4014\n"
     ]
    },
    {
     "name": "stderr",
     "output_type": "stream",
     "text": [
      "100%|██████████| 75/75 [00:15<00:00,  4.70it/s]\n",
      "  0%|          | 0/75 [00:00<?, ?it/s]"
     ]
    },
    {
     "name": "stdout",
     "output_type": "stream",
     "text": [
      "61/100, loss = 41.2262\n"
     ]
    },
    {
     "name": "stderr",
     "output_type": "stream",
     "text": [
      "100%|██████████| 75/75 [00:16<00:00,  4.69it/s]\n",
      "  0%|          | 0/75 [00:00<?, ?it/s]"
     ]
    },
    {
     "name": "stdout",
     "output_type": "stream",
     "text": [
      "62/100, loss = 41.0544\n"
     ]
    },
    {
     "name": "stderr",
     "output_type": "stream",
     "text": [
      "100%|██████████| 75/75 [00:15<00:00,  4.70it/s]\n",
      "  0%|          | 0/75 [00:00<?, ?it/s]"
     ]
    },
    {
     "name": "stdout",
     "output_type": "stream",
     "text": [
      "63/100, loss = 40.8864\n"
     ]
    },
    {
     "name": "stderr",
     "output_type": "stream",
     "text": [
      "100%|██████████| 75/75 [00:15<00:00,  4.71it/s]\n",
      "  0%|          | 0/75 [00:00<?, ?it/s]"
     ]
    },
    {
     "name": "stdout",
     "output_type": "stream",
     "text": [
      "64/100, loss = 40.7213\n"
     ]
    },
    {
     "name": "stderr",
     "output_type": "stream",
     "text": [
      "100%|██████████| 75/75 [00:15<00:00,  4.70it/s]\n",
      "  0%|          | 0/75 [00:00<?, ?it/s]"
     ]
    },
    {
     "name": "stdout",
     "output_type": "stream",
     "text": [
      "65/100, loss = 40.5596\n"
     ]
    },
    {
     "name": "stderr",
     "output_type": "stream",
     "text": [
      "100%|██████████| 75/75 [00:15<00:00,  4.69it/s]\n",
      "  0%|          | 0/75 [00:00<?, ?it/s]"
     ]
    },
    {
     "name": "stdout",
     "output_type": "stream",
     "text": [
      "66/100, loss = 40.4010\n"
     ]
    },
    {
     "name": "stderr",
     "output_type": "stream",
     "text": [
      "100%|██████████| 75/75 [00:15<00:00,  4.70it/s]\n",
      "  0%|          | 0/75 [00:00<?, ?it/s]"
     ]
    },
    {
     "name": "stdout",
     "output_type": "stream",
     "text": [
      "67/100, loss = 40.2456\n"
     ]
    },
    {
     "name": "stderr",
     "output_type": "stream",
     "text": [
      "100%|██████████| 75/75 [00:15<00:00,  4.70it/s]\n",
      "  0%|          | 0/75 [00:00<?, ?it/s]"
     ]
    },
    {
     "name": "stdout",
     "output_type": "stream",
     "text": [
      "68/100, loss = 40.0931\n"
     ]
    },
    {
     "name": "stderr",
     "output_type": "stream",
     "text": [
      "100%|██████████| 75/75 [00:16<00:00,  4.68it/s]\n",
      "  0%|          | 0/75 [00:00<?, ?it/s]"
     ]
    },
    {
     "name": "stdout",
     "output_type": "stream",
     "text": [
      "69/100, loss = 39.9434\n"
     ]
    },
    {
     "name": "stderr",
     "output_type": "stream",
     "text": [
      "100%|██████████| 75/75 [00:15<00:00,  4.70it/s]\n",
      "  0%|          | 0/75 [00:00<?, ?it/s]"
     ]
    },
    {
     "name": "stdout",
     "output_type": "stream",
     "text": [
      "70/100, loss = 39.7966\n"
     ]
    },
    {
     "name": "stderr",
     "output_type": "stream",
     "text": [
      "100%|██████████| 75/75 [00:15<00:00,  4.69it/s]\n",
      "  0%|          | 0/75 [00:00<?, ?it/s]"
     ]
    },
    {
     "name": "stdout",
     "output_type": "stream",
     "text": [
      "71/100, loss = 39.6527\n"
     ]
    },
    {
     "name": "stderr",
     "output_type": "stream",
     "text": [
      "100%|██████████| 75/75 [00:15<00:00,  4.69it/s]\n",
      "  0%|          | 0/75 [00:00<?, ?it/s]"
     ]
    },
    {
     "name": "stdout",
     "output_type": "stream",
     "text": [
      "72/100, loss = 39.5113\n"
     ]
    },
    {
     "name": "stderr",
     "output_type": "stream",
     "text": [
      "100%|██████████| 75/75 [00:15<00:00,  4.70it/s]\n",
      "  0%|          | 0/75 [00:00<?, ?it/s]"
     ]
    },
    {
     "name": "stdout",
     "output_type": "stream",
     "text": [
      "73/100, loss = 39.3724\n"
     ]
    },
    {
     "name": "stderr",
     "output_type": "stream",
     "text": [
      "100%|██████████| 75/75 [00:15<00:00,  4.70it/s]\n",
      "  0%|          | 0/75 [00:00<?, ?it/s]"
     ]
    },
    {
     "name": "stdout",
     "output_type": "stream",
     "text": [
      "74/100, loss = 39.2357\n"
     ]
    },
    {
     "name": "stderr",
     "output_type": "stream",
     "text": [
      "100%|██████████| 75/75 [00:15<00:00,  4.69it/s]\n",
      "  0%|          | 0/75 [00:00<?, ?it/s]"
     ]
    },
    {
     "name": "stdout",
     "output_type": "stream",
     "text": [
      "75/100, loss = 39.1011\n"
     ]
    },
    {
     "name": "stderr",
     "output_type": "stream",
     "text": [
      "100%|██████████| 75/75 [00:15<00:00,  4.69it/s]\n",
      "  0%|          | 0/75 [00:00<?, ?it/s]"
     ]
    },
    {
     "name": "stdout",
     "output_type": "stream",
     "text": [
      "76/100, loss = 38.9694\n"
     ]
    },
    {
     "name": "stderr",
     "output_type": "stream",
     "text": [
      "100%|██████████| 75/75 [00:16<00:00,  4.68it/s]\n",
      "  0%|          | 0/75 [00:00<?, ?it/s]"
     ]
    },
    {
     "name": "stdout",
     "output_type": "stream",
     "text": [
      "77/100, loss = 38.8395\n"
     ]
    },
    {
     "name": "stderr",
     "output_type": "stream",
     "text": [
      "100%|██████████| 75/75 [00:15<00:00,  4.71it/s]\n",
      "  0%|          | 0/75 [00:00<?, ?it/s]"
     ]
    },
    {
     "name": "stdout",
     "output_type": "stream",
     "text": [
      "78/100, loss = 38.7122\n"
     ]
    },
    {
     "name": "stderr",
     "output_type": "stream",
     "text": [
      "100%|██████████| 75/75 [00:15<00:00,  4.69it/s]\n",
      "  0%|          | 0/75 [00:00<?, ?it/s]"
     ]
    },
    {
     "name": "stdout",
     "output_type": "stream",
     "text": [
      "79/100, loss = 38.5865\n"
     ]
    },
    {
     "name": "stderr",
     "output_type": "stream",
     "text": [
      "100%|██████████| 75/75 [00:16<00:00,  4.69it/s]\n",
      "  0%|          | 0/75 [00:00<?, ?it/s]"
     ]
    },
    {
     "name": "stdout",
     "output_type": "stream",
     "text": [
      "80/100, loss = 38.4631\n"
     ]
    },
    {
     "name": "stderr",
     "output_type": "stream",
     "text": [
      "100%|██████████| 75/75 [00:15<00:00,  4.70it/s]\n",
      "  0%|          | 0/75 [00:00<?, ?it/s]"
     ]
    },
    {
     "name": "stdout",
     "output_type": "stream",
     "text": [
      "81/100, loss = 38.3418\n"
     ]
    },
    {
     "name": "stderr",
     "output_type": "stream",
     "text": [
      "100%|██████████| 75/75 [00:16<00:00,  4.69it/s]\n",
      "  0%|          | 0/75 [00:00<?, ?it/s]"
     ]
    },
    {
     "name": "stdout",
     "output_type": "stream",
     "text": [
      "82/100, loss = 38.2224\n"
     ]
    },
    {
     "name": "stderr",
     "output_type": "stream",
     "text": [
      "100%|██████████| 75/75 [00:16<00:00,  4.68it/s]\n",
      "  0%|          | 0/75 [00:00<?, ?it/s]"
     ]
    },
    {
     "name": "stdout",
     "output_type": "stream",
     "text": [
      "83/100, loss = 38.1047\n"
     ]
    },
    {
     "name": "stderr",
     "output_type": "stream",
     "text": [
      "100%|██████████| 75/75 [00:15<00:00,  4.70it/s]\n",
      "  0%|          | 0/75 [00:00<?, ?it/s]"
     ]
    },
    {
     "name": "stdout",
     "output_type": "stream",
     "text": [
      "84/100, loss = 37.9885\n"
     ]
    },
    {
     "name": "stderr",
     "output_type": "stream",
     "text": [
      "100%|██████████| 75/75 [00:15<00:00,  4.69it/s]\n",
      "  0%|          | 0/75 [00:00<?, ?it/s]"
     ]
    },
    {
     "name": "stdout",
     "output_type": "stream",
     "text": [
      "85/100, loss = 37.8743\n"
     ]
    },
    {
     "name": "stderr",
     "output_type": "stream",
     "text": [
      "100%|██████████| 75/75 [00:16<00:00,  4.68it/s]\n",
      "  0%|          | 0/75 [00:00<?, ?it/s]"
     ]
    },
    {
     "name": "stdout",
     "output_type": "stream",
     "text": [
      "86/100, loss = 37.7618\n"
     ]
    },
    {
     "name": "stderr",
     "output_type": "stream",
     "text": [
      "100%|██████████| 75/75 [00:16<00:00,  4.67it/s]\n",
      "  0%|          | 0/75 [00:00<?, ?it/s]"
     ]
    },
    {
     "name": "stdout",
     "output_type": "stream",
     "text": [
      "87/100, loss = 37.6511\n"
     ]
    },
    {
     "name": "stderr",
     "output_type": "stream",
     "text": [
      "100%|██████████| 75/75 [00:15<00:00,  4.69it/s]\n",
      "  0%|          | 0/75 [00:00<?, ?it/s]"
     ]
    },
    {
     "name": "stdout",
     "output_type": "stream",
     "text": [
      "88/100, loss = 37.5418\n"
     ]
    },
    {
     "name": "stderr",
     "output_type": "stream",
     "text": [
      "100%|██████████| 75/75 [00:16<00:00,  4.69it/s]\n",
      "  0%|          | 0/75 [00:00<?, ?it/s]"
     ]
    },
    {
     "name": "stdout",
     "output_type": "stream",
     "text": [
      "89/100, loss = 37.4340\n"
     ]
    },
    {
     "name": "stderr",
     "output_type": "stream",
     "text": [
      "100%|██████████| 75/75 [00:15<00:00,  4.69it/s]\n",
      "  0%|          | 0/75 [00:00<?, ?it/s]"
     ]
    },
    {
     "name": "stdout",
     "output_type": "stream",
     "text": [
      "90/100, loss = 37.3276\n"
     ]
    },
    {
     "name": "stderr",
     "output_type": "stream",
     "text": [
      "100%|██████████| 75/75 [00:15<00:00,  4.71it/s]\n",
      "  0%|          | 0/75 [00:00<?, ?it/s]"
     ]
    },
    {
     "name": "stdout",
     "output_type": "stream",
     "text": [
      "91/100, loss = 37.2226\n"
     ]
    },
    {
     "name": "stderr",
     "output_type": "stream",
     "text": [
      "100%|██████████| 75/75 [00:15<00:00,  4.70it/s]\n",
      "  0%|          | 0/75 [00:00<?, ?it/s]"
     ]
    },
    {
     "name": "stdout",
     "output_type": "stream",
     "text": [
      "92/100, loss = 37.1191\n"
     ]
    },
    {
     "name": "stderr",
     "output_type": "stream",
     "text": [
      "100%|██████████| 75/75 [00:16<00:00,  4.69it/s]\n",
      "  0%|          | 0/75 [00:00<?, ?it/s]"
     ]
    },
    {
     "name": "stdout",
     "output_type": "stream",
     "text": [
      "93/100, loss = 37.0173\n"
     ]
    },
    {
     "name": "stderr",
     "output_type": "stream",
     "text": [
      "100%|██████████| 75/75 [00:15<00:00,  4.70it/s]\n",
      "  0%|          | 0/75 [00:00<?, ?it/s]"
     ]
    },
    {
     "name": "stdout",
     "output_type": "stream",
     "text": [
      "94/100, loss = 36.9168\n"
     ]
    },
    {
     "name": "stderr",
     "output_type": "stream",
     "text": [
      "100%|██████████| 75/75 [00:16<00:00,  4.68it/s]\n",
      "  0%|          | 0/75 [00:00<?, ?it/s]"
     ]
    },
    {
     "name": "stdout",
     "output_type": "stream",
     "text": [
      "95/100, loss = 36.8175\n"
     ]
    },
    {
     "name": "stderr",
     "output_type": "stream",
     "text": [
      "100%|██████████| 75/75 [00:15<00:00,  4.69it/s]\n",
      "  0%|          | 0/75 [00:00<?, ?it/s]"
     ]
    },
    {
     "name": "stdout",
     "output_type": "stream",
     "text": [
      "96/100, loss = 36.7197\n"
     ]
    },
    {
     "name": "stderr",
     "output_type": "stream",
     "text": [
      "100%|██████████| 75/75 [00:16<00:00,  4.67it/s]\n",
      "  0%|          | 0/75 [00:00<?, ?it/s]"
     ]
    },
    {
     "name": "stdout",
     "output_type": "stream",
     "text": [
      "97/100, loss = 36.6232\n"
     ]
    },
    {
     "name": "stderr",
     "output_type": "stream",
     "text": [
      "100%|██████████| 75/75 [00:15<00:00,  4.69it/s]\n",
      "  0%|          | 0/75 [00:00<?, ?it/s]"
     ]
    },
    {
     "name": "stdout",
     "output_type": "stream",
     "text": [
      "98/100, loss = 36.5280\n"
     ]
    },
    {
     "name": "stderr",
     "output_type": "stream",
     "text": [
      "100%|██████████| 75/75 [00:15<00:00,  4.70it/s]\n",
      "  0%|          | 0/75 [00:00<?, ?it/s]"
     ]
    },
    {
     "name": "stdout",
     "output_type": "stream",
     "text": [
      "99/100, loss = 36.4340\n"
     ]
    },
    {
     "name": "stderr",
     "output_type": "stream",
     "text": [
      "100%|██████████| 75/75 [00:15<00:00,  4.69it/s]"
     ]
    },
    {
     "name": "stdout",
     "output_type": "stream",
     "text": [
      "100/100, loss = 36.3408\n"
     ]
    },
    {
     "name": "stderr",
     "output_type": "stream",
     "text": [
      "\n"
     ]
    }
   ],
   "source": [
    "BATCH_SIZE = 2**10\n",
    "ETA = 1e-3\n",
    "EPOCH = 100\n",
    "cce = tf.keras.losses.SparseCategoricalCrossentropy()\n",
    "opt = tf.keras.optimizers.Adam(learning_rate=ETA)\n",
    "train_loss_results = []\n",
    "train_accuracy_results = []\n",
    "\n",
    "for e in range(EPOCH):\n",
    "    epoch_loss_avg = tf.keras.metrics.Mean()\n",
    "    epoch_accuracy = tf.keras.metrics.SparseCategoricalAccuracy()\n",
    "    loss_sum = .0\n",
    "    \n",
    "    for step in tqdm(range(0, len(X_train), BATCH_SIZE)):\n",
    "        start = step\n",
    "        end = min(step + BATCH_SIZE, len(X_train))\n",
    "        X_batch = X_train[start:end]\n",
    "        y_batch = y_train[start:end]\n",
    "\n",
    "        with tf.GradientTape() as tape:\n",
    "            y_pred, _, _ = clf(X_batch)\n",
    "            loss = cce(y_batch, y_pred)\n",
    "\n",
    "        grads = tape.gradient(loss, clf.trainable_variables)\n",
    "        opt.apply_gradients(zip(grads, clf.trainable_variables))\n",
    "        loss_sum += loss\n",
    "    train_loss_results.append(epoch_loss_avg.result())\n",
    "    train_accuracy_results.append(epoch_accuracy.result())\n",
    "    \n",
    "#   if (e+1)%1 == 0:\n",
    "    print(f'{e+1}/{EPOCH}, loss = {loss_sum:.4f}')"
   ]
  },
  {
   "cell_type": "code",
   "execution_count": 37,
   "metadata": {},
   "outputs": [
    {
     "data": {
      "text/plain": [
       "(23692,)"
      ]
     },
     "execution_count": 37,
     "metadata": {},
     "output_type": "execute_result"
    }
   ],
   "source": [
    "y_test.shape"
   ]
  },
  {
   "cell_type": "code",
   "execution_count": 23,
   "metadata": {},
   "outputs": [],
   "source": [
    "def get_relu(m):\n",
    "    assert len(m.shape) == 2\n",
    "    \n",
    "    _m = np.zeros(m.shape)\n",
    "    for i in range(m.shape[0]):\n",
    "        for j in range(m.shape[1]):\n",
    "            _m[i][j] = max(0,m[i][j])\n",
    "            \n",
    "    return _m"
   ]
  },
  {
   "cell_type": "code",
   "execution_count": 24,
   "metadata": {},
   "outputs": [
    {
     "name": "stdout",
     "output_type": "stream",
     "text": [
      "last_conv_layer (1, 136, 250)\n",
      "pooled_grads (250,)\n",
      "heatmap (1, 136)\n"
     ]
    }
   ],
   "source": [
    "with tf.GradientTape() as tape:\n",
    "    X = tensor\n",
    "    _, output, last_conv_layer = clf(X)\n",
    "    output = output[:,cls]\n",
    "\n",
    "print('last_conv_layer',last_conv_layer.shape)\n",
    "grads = tape.gradient(output, last_conv_layer)\n",
    "pooled_grads = tf.reduce_mean(grads,axis=(0,1))\n",
    "print('pooled_grads',pooled_grads.shape)\n",
    "\n",
    "temp = last_conv_layer * pooled_grads\n",
    "heatmap = np.mean(temp, axis=-1)\n",
    "heatmap = get_relu(heatmap)\n",
    "print('heatmap',heatmap.shape)"
   ]
  },
  {
   "cell_type": "code",
   "execution_count": 27,
   "metadata": {},
   "outputs": [],
   "source": [
    "def num_to_text(seq):\n",
    "    sentence = []\n",
    "    for i in range(len(seq)):\n",
    "        if seq[i] == 0:\n",
    "            break\n",
    "        sentence.append(t.index_word.get(seq[i]))\n",
    "    return sentence\n",
    "sentence = num_to_text(X[0])"
   ]
  },
  {
   "cell_type": "code",
   "execution_count": 28,
   "metadata": {},
   "outputs": [
    {
     "name": "stdout",
     "output_type": "stream",
     "text": [
      "[(0, 'the'), (1, 'new'), (2, 'mercer'), (3, 'canyons'), (4, 'label'), (5, 'gets'), (6, 'off'), (7, 'to'), (8, 'a'), (9, 'good'), (10, 'start'), (11, 'with'), (12, 'this'), (13, 'chardonnay'), (14, \"that's\"), (15, 'low'), (16, 'in'), (17, 'alcohol'), (18, 'and'), (19, 'clean'), (20, 'bracing'), (21, 'and'), (22, 'leesy'), (23, 'this'), (24, 'is'), (25, 'definitely'), (26, 'european'), (27, 'in'), (28, 'style'), (29, 'and'), (30, 'it'), (31, 'offers'), (32, 'celery'), (33, 'and'), (34, 'melon'), (35, 'flavors'), (36, 'along'), (37, 'with'), (38, 'palate'), (39, 'refreshing'), (40, 'minerality')]\n"
     ]
    }
   ],
   "source": [
    "print(list(zip(np.arange(len(sentence)),sentence)))"
   ]
  },
  {
   "cell_type": "code",
   "execution_count": 29,
   "metadata": {},
   "outputs": [
    {
     "data": {
      "text/plain": [
       "\"the new mercer canyons label gets off to a good start with this chardonnay that's low in alcohol and clean bracing and leesy this is definitely european in style and it offers celery and melon flavors along with palate refreshing minerality\""
      ]
     },
     "execution_count": 29,
     "metadata": {},
     "output_type": "execute_result"
    }
   ],
   "source": [
    "' '.join(sentence)"
   ]
  },
  {
   "cell_type": "code",
   "execution_count": 30,
   "metadata": {},
   "outputs": [],
   "source": [
    "predicted = clf.predict(X_test)[0]"
   ]
  },
  {
   "cell_type": "code",
   "execution_count": 31,
   "metadata": {},
   "outputs": [
    {
     "data": {
      "text/plain": [
       "(23692, 12)"
      ]
     },
     "execution_count": 31,
     "metadata": {},
     "output_type": "execute_result"
    }
   ],
   "source": [
    "predicted.shape"
   ]
  },
  {
   "cell_type": "code",
   "execution_count": 32,
   "metadata": {},
   "outputs": [
    {
     "data": {
      "text/plain": [
       "11"
      ]
     },
     "execution_count": 32,
     "metadata": {},
     "output_type": "execute_result"
    }
   ],
   "source": [
    "x = X_test[:1]\n",
    "x_pred, output, last_conv_layer = clf(x)\n",
    "cls = np.argmax(x_pred, axis =1)[0]\n",
    "cls"
   ]
  },
  {
   "cell_type": "code",
   "execution_count": 48,
   "metadata": {},
   "outputs": [
    {
     "name": "stderr",
     "output_type": "stream",
     "text": [
      "100%|██████████| 23692/23692 [02:09<00:00, 182.86it/s]\n"
     ]
    }
   ],
   "source": [
    "heatmap_list = []\n",
    "for x in tqdm(X_test) :\n",
    "    x = x.reshape(1,-1)\n",
    "    with tf.GradientTape() as tape:\n",
    "        x_pred, output, last_conv_layer = clf(x)\n",
    "        cls = np.argmax(x_pred, axis =1)[0]\n",
    "        output = output[:,cls]\n",
    "\n",
    "    #print('last_conv_layer',last_conv_layer.shape)\n",
    "    grads = tape.gradient(output, last_conv_layer)\n",
    "    pooled_grads = tf.reduce_mean(grads,axis=(0,1))\n",
    "    #print('pooled_grads',pooled_grads.shape)\n",
    "\n",
    "    temp = last_conv_layer * pooled_grads\n",
    "    heatmap = np.mean(temp, axis=-1)\n",
    "    heatmap = get_relu(heatmap)\n",
    "    #print('heatmap',heatmap.shape)\n",
    "    heatmap_list.append(heatmap)"
   ]
  },
  {
   "cell_type": "code",
   "execution_count": 58,
   "metadata": {},
   "outputs": [],
   "source": [
    "#X_pred = clf(X_test)[0]\n",
    "X_pred = np.argmax(X_pred, axis=1)"
   ]
  },
  {
   "cell_type": "code",
   "execution_count": 59,
   "metadata": {},
   "outputs": [],
   "source": [
    "data_list = []\n",
    "for i in range(len(X_test)) :\n",
    "    data_list.append([X_pred[i],y_test[i],X_test[i],heatmap_list[i].reshape(-1)])"
   ]
  },
  {
   "cell_type": "code",
   "execution_count": 65,
   "metadata": {},
   "outputs": [],
   "source": [
    "Argentina =[]\n",
    "Australia=[]\n",
    "Austria=[]\n",
    "Chile=[]\n",
    "France=[]\n",
    "Germany=[]\n",
    "Italy=[]\n",
    "New_Zealand=[]\n",
    "Portugal=[]\n",
    "South_Africa=[]\n",
    "Spain=[]\n",
    "US=[]"
   ]
  },
  {
   "cell_type": "code",
   "execution_count": null,
   "metadata": {},
   "outputs": [],
   "source": [
    "nations = [Argentina,Australia,Austria,Chile,France,Germany,Italy,New_Zealand,Portugal,South_Africa,Spain,US]\n",
    "for data in data_list :\n",
    "    nations[data[0]].append(data)\n"
   ]
  },
  {
   "cell_type": "code",
   "execution_count": 80,
   "metadata": {},
   "outputs": [
    {
     "name": "stderr",
     "output_type": "stream",
     "text": [
      "100%|██████████| 12/12 [00:14<00:00,  1.19s/it]\n"
     ]
    }
   ],
   "source": [
    "activations = []\n",
    "word_counts = []\n",
    "for nation in tqdm(nations) :\n",
    "    activation = np.zeros(len(t.word_index)+1)\n",
    "    word_count = np.zeros(len(t.word_index)+1)\n",
    "    for test in nation :\n",
    "         for dd in range(136) :\n",
    "            if test[2][dd] == 0 :\n",
    "                break\n",
    "            else :\n",
    "                maximun = test[3].max()\n",
    "                activation[test[2][dd]] += (test[3][dd])\n",
    "                word_count[test[2][dd]] += 1\n",
    "    activations.append(activation)\n",
    "    word_counts.append(word_count)"
   ]
  },
  {
   "cell_type": "code",
   "execution_count": 73,
   "metadata": {},
   "outputs": [
    {
     "data": {
      "text/plain": [
       "12"
      ]
     },
     "execution_count": 73,
     "metadata": {},
     "output_type": "execute_result"
    }
   ],
   "source": [
    "len(activations)"
   ]
  },
  {
   "cell_type": "code",
   "execution_count": null,
   "metadata": {},
   "outputs": [],
   "source": [
    "activation = np.zeros(len(t.word_index)+1)\n",
    "word_count = np.zeros(len(t.word_index)+1)\n",
    "for test in Argentina :    \n",
    "    for dd in range(136) :\n",
    "#        print(test[2][dd])\n",
    "#        print(test[3][0,dd])\n",
    "        if test[2][dd] == 0 : \n",
    "            break\n",
    "        else : \n",
    "            maximun = test[3].max()\n",
    "            activation[test[2][dd]] += (test[3][dd])\n",
    "            word_count[test[2][dd]] += 1"
   ]
  },
  {
   "cell_type": "code",
   "execution_count": 82,
   "metadata": {},
   "outputs": [],
   "source": [
    "reverse_word_map = dict(map(reversed, t.word_index.items()))"
   ]
  },
  {
   "cell_type": "code",
   "execution_count": null,
   "metadata": {},
   "outputs": [],
   "source": [
    "print(word_count.shape)\n",
    "print(activation.shape)"
   ]
  },
  {
   "cell_type": "code",
   "execution_count": 349,
   "metadata": {},
   "outputs": [],
   "source": [
    "import pandas as pd\n",
    "word_count = word_counts[6]\n",
    "activation = activations[6]\n",
    "d = {'word_count': word_count,'activation': activation}\n",
    "df = pd.DataFrame(d)\n",
    "df = df.loc[(df['word_count'] > 0) & (df['activation'] > 0 )]\n",
    "df['word_count'] = df['word_count'].astype('int64')\n",
    "df['activation'] = df['activation'] / df['word_count']\n",
    "index = df.index.tolist()\n",
    "word = [reverse_word_map[x] for x in index]\n",
    "df['word'] = word\n",
    "df = df.set_index('word')\n"
   ]
  },
  {
   "cell_type": "code",
   "execution_count": 84,
   "metadata": {},
   "outputs": [
    {
     "data": {
      "text/plain": [
       "<seaborn.axisgrid.FacetGrid at 0x7fbdbca4f3c8>"
      ]
     },
     "execution_count": 84,
     "metadata": {},
     "output_type": "execute_result"
    },
    {
     "data": {
      "image/png": "[encoded data removed]",
      "text/plain": [
       "<Figure size 360x360 with 1 Axes>"
      ]
     },
     "metadata": {
      "needs_background": "light"
     },
     "output_type": "display_data"
    }
   ],
   "source": [
    "\n",
    "sns.lmplot('word_count', 'activation', data=df, fit_reg=False,)"
   ]
  },
  {
   "cell_type": "code",
   "execution_count": 274,
   "metadata": {},
   "outputs": [],
   "source": [
    "df = df.sort_values(by='activation', ascending = False)\n",
    "top100 = df.head(100)\n",
    "top100 = top100.drop_duplicates('word_count')"
   ]
  },
  {
   "cell_type": "code",
   "execution_count": 353,
   "metadata": {},
   "outputs": [],
   "source": [
    "df = df.loc[(df['word_count'] < 5000) & df['activation'] > 0.005]"
   ]
  },
  {
   "cell_type": "code",
   "execution_count": 357,
   "metadata": {},
   "outputs": [
    {
     "data": {
      "image/png": "[encoded data removed]",
      "text/plain": [
       "<Figure size 936x936 with 1 Axes>"
      ]
     },
     "metadata": {},
     "output_type": "display_data"
    }
   ],
   "source": [
    "f, ax = plt.subplots(figsize=(13,13))\n",
    "sns.set_style('whitegrid')\n",
    "p1= sns.scatterplot(x=\"word_count\", y=\"activation\", data=df)\n",
    "#p1.set(ylim=(0,0.0055),  yticks=[0.0025,0.00375,0.0055], yticklabels=['low','medium','high'], xlim=(1, 5000))\n",
    "p1.set(ylim=(0,0.015))\n",
    "for line in range(0,df.shape[0]):\n",
    "       if (df.activation[line] > 0.006) or (df.word_count[line] > 1000) :\n",
    "            p1.text(df.word_count[line]+0.4, df.activation[line], df.index[line], horizontalalignment='left', size='medium', color='black')\n",
    "plt.show(p1)\n",
    "#fig = p1.get_figure()\n",
    "#fig.savefig('output.png') "
   ]
  },
  {
   "cell_type": "code",
   "execution_count": null,
   "metadata": {},
   "outputs": [],
   "source": [
    "df = df.set_index('word')"
   ]
  },
  {
   "cell_type": "code",
   "execution_count": null,
   "metadata": {},
   "outputs": [],
   "source": [
    "df.loc[(df['word_count'] == 1) & (df['activation'] > 0.002)]"
   ]
  },
  {
   "cell_type": "code",
   "execution_count": 195,
   "metadata": {},
   "outputs": [
    {
     "data": {
      "text/plain": [
       "[[<matplotlib.axis.YTick at 0x7fbc885c5e10>,\n",
       "  <matplotlib.axis.YTick at 0x7fbc885c56a0>,\n",
       "  <matplotlib.axis.YTick at 0x7fbc885c6550>],\n",
       " [Text(0, 0, 'low'), Text(0, 0, 'medium'), Text(0, 0, 'high')],\n",
       " (0, 0.005)]"
      ]
     },
     "execution_count": 195,
     "metadata": {},
     "output_type": "execute_result"
    },
    {
     "data": {
      "image/png": "[encoded data removed]",
      "text/plain": [
       "<Figure size 1440x720 with 1 Axes>"
      ]
     },
     "metadata": {},
     "output_type": "display_data"
    }
   ],
   "source": [
    "g = sns.barplot(x='word', y='activation', data=only_pd2)\n",
    "#g.set(yticklabels=['low', ' ',' ',' ',' ',' ',' ',' ', 'high'])\n",
    "#sns.set_style(\"ticks\",{\"xtick.major.size\":8,\"ytick.major.size\":8})\n",
    "g.set(ylim=(0,0.005),  yticks=[0,0.0025,0.005], yticklabels=['low','medium','high'])\n"
   ]
  },
  {
   "cell_type": "code",
   "execution_count": null,
   "metadata": {},
   "outputs": [],
   "source": []
  }
 ],
 "metadata": {
  "kernelspec": {
   "display_name": "Python 3",
   "language": "python",
   "name": "python3"
  },
  "language_info": {
   "codemirror_mode": {
    "name": "ipython",
    "version": 3
   },
   "file_extension": ".py",
   "mimetype": "text/x-python",
   "name": "python",
   "nbconvert_exporter": "python",
   "pygments_lexer": "ipython3",
   "version": "3.6.9"
  }
 },
 "nbformat": 4,
 "nbformat_minor": 4
}
